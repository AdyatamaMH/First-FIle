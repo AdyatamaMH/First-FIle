{
 "cells": [
  {
   "cell_type": "code",
   "execution_count": 13,
   "id": "3d9a85d5",
   "metadata": {},
   "outputs": [
    {
     "name": "stdout",
     "output_type": "stream",
     "text": [
      "Dictionary = {'gold': 550, 'pouch': ['flint', 'twine', 'gemstone'], 'backpack': ['bedroll', 'bread loaf', 'xylophone'], 'pocket': ['seashell', 'strange berry', 'lint']}\n"
     ]
    }
   ],
   "source": [
    "#Exercise 1\n",
    "\n",
    "inventory = {'gold' : 500, 'pouch' : ['flint', 'twine', 'gemstone'], 'backpack' : ['xylophone', 'dagger', 'bedroll', 'bread loaf'] }\n",
    "\n",
    "inventory[\"pocket\"] = ['seashell', 'strange berry','lint']\n",
    "inventory[\"backpack\"].sort()\n",
    "inventory[\"backpack\"].remove(\"dagger\")\n",
    "inventory[\"gold\"] += 50\n",
    "\n",
    "print(f\"Dictionary = {inventory}\")"
   ]
  },
  {
   "cell_type": "code",
   "execution_count": 11,
   "id": "6a3df06c",
   "metadata": {},
   "outputs": [
    {
     "name": "stdout",
     "output_type": "stream",
     "text": [
      "banana\n",
      "Price: 4\n",
      "Stock: 6\n",
      "Profit from selling entire stock: 24\n",
      "\n",
      "apple\n",
      "Price: 2\n",
      "Stock: 0\n",
      "Profit from selling entire stock: 0\n",
      "\n",
      "orange\n",
      "Price: 1.5\n",
      "Stock: 32\n",
      "Profit from selling entire stock: 48.0\n",
      "\n",
      "pear\n",
      "Price: 3\n",
      "Stock: 15\n",
      "Profit from selling entire stock: 45\n",
      "\n",
      "Entire Profit: 117.0\n"
     ]
    }
   ],
   "source": [
    "#Exercise 2\n",
    "\n",
    "prices = {\"banana\" : 4, \"apple\" : 2, \"orange\" : 1.5, \"pear\" : 3}\n",
    "stock = {\"banana\" : 6, \"apple\" : 0, \"orange\" : 32, \"pear\" : 15}\n",
    "\n",
    "x = 0\n",
    "for y in prices:\n",
    "    print(y)\n",
    "    print(f\"Price: {prices[y]}\")\n",
    "    print(f\"Stock: {stock[y]}\")\n",
    "    total = prices[y] * stock[y]\n",
    "    print(f\"Profit from selling entire stock: {total}\")\n",
    "    print()\n",
    "    \n",
    "    x += total\n",
    "\n",
    "print(f\"Entire Profit: {x}\")"
   ]
  },
  {
   "cell_type": "code",
   "execution_count": 16,
   "id": "c551c04c",
   "metadata": {},
   "outputs": [
    {
     "name": "stdout",
     "output_type": "stream",
     "text": [
      "Total Price: 12.5\n"
     ]
    }
   ],
   "source": [
    "#Exercise 3\n",
    "\n",
    "foodlist = [\"banana\", \"orange\", \"apple\", \"pear\", \"mango\", \"pepaya\", \"banana\"]\n",
    "\n",
    "prices = {\"banana\" : 4, \"apple\" : 2, \"orange\" : 1.5, \"pear\" : 3}\n",
    "stock = {\"banana\" : 6, \"apple\" : 0, \"orange\" : 32, \"pear\" : 15}\n",
    "\n",
    "def compute_bill(foodlist):\n",
    "    total = 0\n",
    "    for x in foodlist:\n",
    "        if stock.get(x, 0) > 0:\n",
    "            total += prices.get(x, 0)\n",
    "            stock[x] -= 1\n",
    "    return total\n",
    "print(f\"Total Price: {compute_bill(foodlist)}\")\n",
    "            "
   ]
  },
  {
   "cell_type": "code",
   "execution_count": 1,
   "id": "dbba3f03",
   "metadata": {},
   "outputs": [
    {
     "name": "stdout",
     "output_type": "stream",
     "text": [
      "Name:  Eren\n",
      "Homework Scores:  [90.0, 97.0, 75.0, 92.0]\n",
      "Quiz Scores:  [88.0, 40.0, 94.0]\n",
      "Test Scores:  [75.0, 90.0]\n",
      "\n",
      "Name:  Mikasa\n",
      "Homework Scores:  [100.0, 92.0, 98.0, 100.0]\n",
      "Quiz Scores:  [82.0, 83.0, 91.0]\n",
      "Test Scores:  [89.0, 97.0]\n",
      "\n",
      "Name:  Armin\n",
      "Homework Scores:  [0.0, 87.0, 75.0, 22.0]\n",
      "Quiz Scores:  [0.0, 75.0, 78.0]\n",
      "Test Scores:  [100.0, 100.0]\n",
      "\n",
      "Eren:  C\n",
      "Mikasa:  C\n",
      "Armin:  C\n",
      "79.9\n",
      "C\n"
     ]
    }
   ],
   "source": [
    "#Exercise 4\n",
    "eren = {\n",
    " \"name\": \"Eren\",\n",
    " \"homework\": [90.0,97.0,75.0,92.0],\n",
    " \"quizzes\": [88.0,40.0,94.0],\n",
    " \"tests\": [75.0,90.0]\n",
    "}\n",
    "mikasa = {\n",
    "\"name\": \"Mikasa\",\n",
    "\"homework\": [100.0, 92.0, 98.0, 100.0],\n",
    "\"quizzes\": [82.0, 83.0, 91.0],\n",
    "\"tests\": [89.0, 97.0]\n",
    "}\n",
    "armin = {\n",
    "\"name\": \"Armin\",\n",
    "\"homework\": [0.0, 87.0, 75.0, 22.0],\n",
    "\"quizzes\": [0.0, 75.0, 78.0],\n",
    "\"tests\": [100.0, 100.0]\n",
    "}\n",
    "\n",
    "Students = [\"eren\", \"mikasa\", \"armin\"]\n",
    "for x in Students:\n",
    "    print(\"Name: \", eval(x + \"['name']\"))\n",
    "    print(\"Homework Scores: \", eval(x + \"['homework']\"))\n",
    "    print(\"Quiz Scores: \", eval(x + \"['quizzes']\"))\n",
    "    print(\"Test Scores: \", eval(x + \"['tests']\"))\n",
    "    print()\n",
    "\n",
    "def average(numbers):\n",
    "    total = float(sum(numbers)) / len(numbers)\n",
    "    return total\n",
    "\n",
    "def get_average(student):\n",
    "    homework = average(eval(x + \"['homework']\")) * 0.1\n",
    "    quiz = average(eval(x + \"['quizzes']\")) * 0.3\n",
    "    test = average(eval(x + \"['tests']\")) * 0.6\n",
    "    return homework + quiz + test\n",
    "\n",
    "def get_letter_grade(score):\n",
    "    if score >= 90:\n",
    "        return 'A'\n",
    "    elif score >= 80:\n",
    "        return 'B'\n",
    "    elif score >= 70:\n",
    "        return 'C'\n",
    "    elif score >= 60:\n",
    "        return 'D'\n",
    "    else:\n",
    "        return 'F'\n",
    "    \n",
    "print(\"Eren: \", get_letter_grade(get_average(\"eren\")))\n",
    "print(\"Mikasa: \", get_letter_grade(get_average(\"mikasa\")))\n",
    "print(\"Armin: \", get_letter_grade(get_average(\"armin\")))\n",
    "\n",
    "def get_class_average(Students):\n",
    "    results = []\n",
    "    for x in Students:\n",
    "        results.append(get_average(x))\n",
    "    return average(results)\n",
    "\n",
    "print((get_class_average(Students)))\n",
    "print((get_letter_grade(get_class_average(Students))))"
   ]
  },
  {
   "cell_type": "code",
   "execution_count": null,
   "id": "5ca0401a",
   "metadata": {},
   "outputs": [],
   "source": []
  }
 ],
 "metadata": {
  "kernelspec": {
   "display_name": "Python 3 (ipykernel)",
   "language": "python",
   "name": "python3"
  },
  "language_info": {
   "codemirror_mode": {
    "name": "ipython",
    "version": 3
   },
   "file_extension": ".py",
   "mimetype": "text/x-python",
   "name": "python",
   "nbconvert_exporter": "python",
   "pygments_lexer": "ipython3",
   "version": "3.10.7"
  }
 },
 "nbformat": 4,
 "nbformat_minor": 5
}
