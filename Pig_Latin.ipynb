{
 "cells": [
  {
   "cell_type": "code",
   "execution_count": 72,
   "id": "7d38d79c",
   "metadata": {},
   "outputs": [
    {
     "name": "stdout",
     "output_type": "stream",
     "text": [
      "Please enter english sentence:  Roses are red violet are blue I finished my popcorn during the preview\n",
      "osesRay\n",
      "areyay\n",
      "edray\n",
      "ioletvay\n",
      "areyay\n",
      "ueblay\n",
      "Iyay\n",
      "inishedfay\n",
      "ymay\n",
      "opcornpay\n",
      "uringday\n",
      "ethay\n",
      "reviewpay\n"
     ]
    }
   ],
   "source": [
    "sentence = input('Please enter english sentence: ')\n",
    "sentence = sentence.split()\n",
    "vowels = (\"a\",\"e\",\"i\",\"o\",\"u\",\"A\",\"E\",\"I\",\"O\",\"U\")\n",
    "consonant = (\"C\", \"D\", \"F\", \"G\", \"H\", \"J\", \"K\", \"L\", \"M\", \"N\", \"Q\", \"R\", \"S\", \"T\", \"V\", \"W\", \"X\", \"Y\", \"Z\")\n",
    "exclusive = (\"Pr\", \"pr\")\n",
    "exclusive2 = (\"bl\")\n",
    "exclusive3 = (\"th\")\n",
    "for x in range(len(sentence)):\n",
    "    x = sentence[x]\n",
    "    if x[0] in vowels:\n",
    "        print(x + \"yay\")\n",
    "    elif x[0] in consonant: \n",
    "        print(x[1:]+x[0] + \"ay\")\n",
    "    elif x[0] in exclusive:\n",
    "        print(x[2:]+x[0] + \"ray\")\n",
    "    elif x[0] in exclusive2:\n",
    "        print(x[2:]+x[0] + \"lay\")\n",
    "    elif x[0] in exclusive3:\n",
    "        print(x[2:]+x[0] + \"hay\")\n",
    "    else:\n",
    "        print(x[1:]+x[0] + \"ay\")"
   ]
  },
  {
   "cell_type": "code",
   "execution_count": null,
   "id": "2b0beb05",
   "metadata": {},
   "outputs": [],
   "source": []
  },
  {
   "cell_type": "code",
   "execution_count": null,
   "id": "fb3875f0",
   "metadata": {},
   "outputs": [],
   "source": []
  },
  {
   "cell_type": "code",
   "execution_count": null,
   "id": "fc6ef92f",
   "metadata": {},
   "outputs": [],
   "source": []
  }
 ],
 "metadata": {
  "kernelspec": {
   "display_name": "Python 3 (ipykernel)",
   "language": "python",
   "name": "python3"
  },
  "language_info": {
   "codemirror_mode": {
    "name": "ipython",
    "version": 3
   },
   "file_extension": ".py",
   "mimetype": "text/x-python",
   "name": "python",
   "nbconvert_exporter": "python",
   "pygments_lexer": "ipython3",
   "version": "3.10.7"
  }
 },
 "nbformat": 4,
 "nbformat_minor": 5
}
