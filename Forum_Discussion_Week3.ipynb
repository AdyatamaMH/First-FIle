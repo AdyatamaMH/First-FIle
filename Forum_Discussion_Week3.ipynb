{
 "cells": [
  {
   "cell_type": "code",
   "execution_count": 2,
   "id": "ecc2453b",
   "metadata": {},
   "outputs": [
    {
     "name": "stdout",
     "output_type": "stream",
     "text": [
      "Enter the radius of the circle:5\n",
      "Result of the area : 78.5\n"
     ]
    }
   ],
   "source": [
    "#1 Write a Python program which accepts the radius of a circle from the user and compute the area\n",
    "Radius =int(input(\"Enter the radius of the circle:\"))\n",
    "Area = (3.14 * (Radius)**2 )\n",
    "print (f\"Result of the area : {Area}\")"
   ]
  },
  {
   "cell_type": "code",
   "execution_count": 10,
   "id": "f8b50b6e",
   "metadata": {},
   "outputs": [
    {
     "name": "stdout",
     "output_type": "stream",
     "text": [
      "Enter your first name:Adyatama\n",
      "Enter your last name:Mahabarata\n",
      "Your full name : Mahabarata Adyatama\n"
     ]
    }
   ],
   "source": [
    "#2 Write a Python program which accepts the user's first and last name and print them in reverse order with a space between them.\n",
    "first = str(input(\"Enter your first name:\"))\n",
    "last = str(input(\"Enter your last name:\"))\n",
    "print (f\"Your full name : {last} {first}\")"
   ]
  },
  {
   "cell_type": "code",
   "execution_count": 12,
   "id": "cf9d01a3",
   "metadata": {},
   "outputs": [
    {
     "name": "stdout",
     "output_type": "stream",
     "text": [
      "First Color : Red\n",
      "Last Color : Black\n"
     ]
    }
   ],
   "source": [
    "#3 Write a Python program to display the first and last colors from the following list.\n",
    "clist = [\"Red\",\"Green\",\"White\",\"Black\"]\n",
    "print (f\"First Color : {clist [0]}\" )\n",
    "print (f\"Last Color : {clist [-1]}\")"
   ]
  },
  {
   "cell_type": "code",
   "execution_count": 20,
   "id": "3712d739",
   "metadata": {},
   "outputs": [
    {
     "name": "stdout",
     "output_type": "stream",
     "text": [
      "Enter the interger:3\n",
      "The Value of n+nn+nnn: 39\n"
     ]
    }
   ],
   "source": [
    "#4 Write a Python program that accepts an integer (n) and computes the value of n+nn+nnn\n",
    "intr = int(input(\"Enter the interger:\"))\n",
    "result = (intr) + (intr**2) + (intr**3)\n",
    "print(f\"The Value of n+nn+nnn: {result}\")"
   ]
  },
  {
   "cell_type": "code",
   "execution_count": 21,
   "id": "09f4cfbd",
   "metadata": {},
   "outputs": [
    {
     "name": "stdout",
     "output_type": "stream",
     "text": [
      "The Volume is: 904.3199999999999\n"
     ]
    }
   ],
   "source": [
    "#5 Write a Python program to get the volume of a sphere with radius 6.\n",
    "result = (4/3) * (3.14) * (6**3)\n",
    "print(f\"The Volume is: {result}\")"
   ]
  },
  {
   "cell_type": "code",
   "execution_count": 25,
   "id": "6a84d420",
   "metadata": {},
   "outputs": [
    {
     "name": "stdout",
     "output_type": "stream",
     "text": [
      "Enter the interger:21\n",
      "The absolute is: 16\n"
     ]
    }
   ],
   "source": [
    "#6. Write a Python program to get the difference between a given number and 17, if the number is greater than 17 return  double the absolute difference\n",
    "x = 17\n",
    "y = int(input(\"Enter the interger:\"))\n",
    "if y<= x:\n",
    "    ab = y-x\n",
    "elif y>x:\n",
    "    ab = (y-x)**2\n",
    "print(f\"The absolute is: {(abs(ab))}\")"
   ]
  },
  {
   "cell_type": "code",
   "execution_count": 26,
   "id": "ef0d40cd",
   "metadata": {},
   "outputs": [
    {
     "name": "stdout",
     "output_type": "stream",
     "text": [
      "Enter the three numbers:2,2,2\n",
      "18\n"
     ]
    }
   ],
   "source": [
    "#.7 Write a Python program to calculate the sum of three given numbers, if the values are equal then return thrice of their  sum.\n",
    "a, b, c = eval(input(\"Enter the three numbers [seperate them with a coma]:\"))\n",
    "if a==b==c:\n",
    "    print ((a+b+c)*3)\n",
    "else:\n",
    "    print  (a+b+c)"
   ]
  },
  {
   "cell_type": "code",
   "execution_count": 27,
   "id": "0d5c6577",
   "metadata": {},
   "outputs": [
    {
     "name": "stdout",
     "output_type": "stream",
     "text": [
      "Enter the random number:69\n",
      "69 is an odd number.\n"
     ]
    }
   ],
   "source": [
    "#8. Write a Python program to find whether a given number (accept from the user) is even or odd, print out an appropriate  message to the user\n",
    "a = int(input(\"Enter the random number:\"))\n",
    "b = a % 2\n",
    "\n",
    "if b == 0:\n",
    "    print(f\"{a} is an even number.\")\n",
    "elif b == 1:\n",
    "    print(f\"{a} is an odd number.\")"
   ]
  },
  {
   "cell_type": "code",
   "execution_count": 28,
   "id": "b793bfec",
   "metadata": {},
   "outputs": [
    {
     "name": "stdout",
     "output_type": "stream",
     "text": [
      "Enter a random letter:d\n",
      "The letter you inputted is not a vowel\n"
     ]
    }
   ],
   "source": [
    "#9. Write a Python program to test whether a letter is a vowel or no\n",
    "vow = [\"a\", \"i\", \"u\", \"e\", \"o\"]\n",
    "uinput = input(\"Enter a random letter:\")\n",
    "\n",
    "if uinput.casefold() in vow:\n",
    "    print(f\"The letter you inputted is a vowel\")\n",
    "else:\n",
    "    print(f\"The letter you inputted is not a vowel\")\n"
   ]
  },
  {
   "cell_type": "code",
   "execution_count": 30,
   "id": "1b6ffa90",
   "metadata": {},
   "outputs": [
    {
     "name": "stdout",
     "output_type": "stream",
     "text": [
      "Input a number:1\n",
      "The number you inputted is in the list\n"
     ]
    }
   ],
   "source": [
    "#10.Write a Python program to check whether a specified value is contained in a group of values.\n",
    "runlist = [ 1, 2, 3, 4, 5, 6, 7, 8, 9, 10, 11 ]\n",
    "run = []\n",
    "uinput = int(input(\"Input a number:\"))\n",
    "flag = False\n",
    "for a in runlist:\n",
    "    if uinput == a:\n",
    "        flag = True\n",
    "if flag:\n",
    "    print(f\"The number you inputted is in the list\")\n",
    "else:\n",
    "    print(f\"The number you inputted is not in the list\")\n"
   ]
  },
  {
   "cell_type": "code",
   "execution_count": 8,
   "id": "672caf6c",
   "metadata": {},
   "outputs": [
    {
     "ename": "ModuleNotFoundError",
     "evalue": "No module named 'matplotlib'",
     "output_type": "error",
     "traceback": [
      "\u001b[1;31m---------------------------------------------------------------------------\u001b[0m",
      "\u001b[1;31mModuleNotFoundError\u001b[0m                       Traceback (most recent call last)",
      "Cell \u001b[1;32mIn [8], line 2\u001b[0m\n\u001b[0;32m      1\u001b[0m \u001b[38;5;66;03m#11.Write a Python program to create a histogram from a given list of integers.\u001b[39;00m\n\u001b[1;32m----> 2\u001b[0m \u001b[38;5;28;01mimport\u001b[39;00m \u001b[38;5;21;01mmatplotlib\u001b[39;00m\u001b[38;5;21;01m.\u001b[39;00m\u001b[38;5;21;01mpyplot\u001b[39;00m \u001b[38;5;28;01mas\u001b[39;00m \u001b[38;5;21;01mplot\u001b[39;00m\n\u001b[0;32m      4\u001b[0m runlist \u001b[38;5;241m=\u001b[39m [ \u001b[38;5;241m1\u001b[39m, \u001b[38;5;241m2\u001b[39m, \u001b[38;5;241m3\u001b[39m, \u001b[38;5;241m4\u001b[39m, \u001b[38;5;241m5\u001b[39m, \u001b[38;5;241m6\u001b[39m, \u001b[38;5;241m7\u001b[39m, \u001b[38;5;241m8\u001b[39m, \u001b[38;5;241m9\u001b[39m, \u001b[38;5;241m10\u001b[39m, \u001b[38;5;241m11\u001b[39m, \u001b[38;5;241m12\u001b[39m, \u001b[38;5;241m13\u001b[39m, \u001b[38;5;241m14\u001b[39m, \u001b[38;5;241m15\u001b[39m, \u001b[38;5;241m16\u001b[39m, \u001b[38;5;241m17\u001b[39m, \u001b[38;5;241m18\u001b[39m, \u001b[38;5;241m19\u001b[39m, \u001b[38;5;241m20\u001b[39m, \u001b[38;5;241m21\u001b[39m, \u001b[38;5;241m22\u001b[39m, \u001b[38;5;241m23\u001b[39m, \u001b[38;5;241m24\u001b[39m, \u001b[38;5;241m25\u001b[39m, \u001b[38;5;241m26\u001b[39m, \u001b[38;5;241m27\u001b[39m, \u001b[38;5;241m28\u001b[39m, \u001b[38;5;241m29\u001b[39m, \u001b[38;5;241m30\u001b[39m]\n\u001b[0;32m      5\u001b[0m run \u001b[38;5;241m=\u001b[39m []\n",
      "\u001b[1;31mModuleNotFoundError\u001b[0m: No module named 'matplotlib'"
     ]
    }
   ],
   "source": [
    "#11.Write a Python program to create a histogram from a given list of integers.\n",
    "import matplotlib.pyplot as plot\n",
    "\n",
    "runlist = [ 1, 2, 3, 4, 5, 6, 7, 8, 9, 10, 11, 12, 13, 14, 15, 16, 17, 18, 19, 20, 21, 22, 23, 24, 25, 26, 27, 28, 29, 30]\n",
    "run = []\n",
    "\n",
    "plot.hist(runlist)\n",
    "\n",
    "#Sir I have downloaded the python packages but it still won't work"
   ]
  },
  {
   "cell_type": "code",
   "execution_count": 6,
   "id": "9fd5d493",
   "metadata": {},
   "outputs": [
    {
     "name": "stdout",
     "output_type": "stream",
     "text": [
      "The numbers are 386\n",
      "The numbers are 462\n",
      "The numbers are 418\n",
      "The numbers are 344\n",
      "The numbers are 236\n",
      "The numbers are 566\n",
      "The numbers are 978\n",
      "The numbers are 328\n",
      "The numbers are 162\n",
      "The numbers are 758\n",
      "The numbers are 918\n",
      "The numbers are 412\n",
      "The numbers are 566\n",
      "The numbers are 826\n",
      "The numbers are 248\n",
      "The numbers are 866\n",
      "The numbers are 950\n",
      "The numbers are 626\n",
      "The numbers are 104\n",
      "The numbers are 58\n",
      "The numbers are 512\n",
      "The numbers are 24\n",
      "The numbers are 892\n",
      "The numbers are 894\n",
      "The numbers are 742\n",
      "The numbers are 958\n"
     ]
    }
   ],
   "source": [
    "#12.Write a Python program to print all even numbers from a given numbers list in the same order.\n",
    "numbers = [ \n",
    " 386, 462, 47, 418, 907, 344, 236, 375, 823, 566, 597, 978, 328, 615, 953, 345, \n",
    " 399, 162, 758, 219, 918, 237, 412, 566, 826, 248, 866, 950, 626, 949, 687, 217, \n",
    " 815, 67, 104, 58, 512, 24, 892, 894, 767, 553, 81, 379, 843, 831, 445, 742, 717, \n",
    " 958,743, 527 ]\n",
    "for a in numbers:\n",
    "    if a % 2 == 0:\n",
    "        print(f\"The numbers are {a}\")"
   ]
  },
  {
   "cell_type": "code",
   "execution_count": 13,
   "id": "0b598a81",
   "metadata": {},
   "outputs": [
    {
     "name": "stdout",
     "output_type": "stream",
     "text": [
      "Input the base of the triangle:10\n",
      "Input the height of the triangle:50\n",
      " The area of the triangle: 250.0 cm\n"
     ]
    }
   ],
   "source": [
    "#13.Write a Python program that will accept the base and height of a triangle and compute the area.\n",
    "base = int(input(\"Input the base of the triangle:\"))\n",
    "height = int(input(\"Input the height of the triangle:\"))\n",
    "area = (height * base) /2\n",
    "\n",
    "print(f\" The area of the triangle: {area} cm\")"
   ]
  },
  {
   "cell_type": "code",
   "execution_count": 15,
   "id": "72c9363e",
   "metadata": {},
   "outputs": [
    {
     "name": "stdout",
     "output_type": "stream",
     "text": [
      "Input the first number:30\n",
      "Input the second number:45\n",
      "The two numbers are: 90\n"
     ]
    }
   ],
   "source": [
    "#14.Write a Python program to get the least common multiple (LCM) of two positive integers.\n",
    "a = int(input(\"Input the first number:\"))\n",
    "b = int(input(\"Input the second number:\"))\n",
    "if a < b:\n",
    "    a+b == b+a\n",
    "lcm = a\n",
    "while lcm % b != 0:\n",
    "    lcm +=a\n",
    "print(f\"The two numbers are: {lcm}\")"
   ]
  },
  {
   "cell_type": "code",
   "execution_count": 19,
   "id": "706d8de1",
   "metadata": {},
   "outputs": [
    {
     "name": "stdout",
     "output_type": "stream",
     "text": [
      "Input the first interger:3\n",
      "Input the second interger:3\n",
      "Input the third interger:6\n",
      "0\n"
     ]
    }
   ],
   "source": [
    "#15. Write a Python program to sum of three given integers. However, if two values are equal sum will be zero.\n",
    "a = int(input(\"Input the first interger:\"))\n",
    "b = int(input(\"Input the second interger:\"))\n",
    "c = int(input(\"Input the third interger:\"))\n",
    "\n",
    "if a==b or b==c or a==c:\n",
    "    print(0)\n",
    "else:\n",
    "    print(f\"The multiplacation of the three interger is: {(a+b+c)}\")"
   ]
  },
  {
   "cell_type": "code",
   "execution_count": 20,
   "id": "b673dd42",
   "metadata": {},
   "outputs": [
    {
     "name": "stdout",
     "output_type": "stream",
     "text": [
      "Input the first interger:5\n",
      "Input the second interger:5\n",
      "The result of the equation is: 100\n"
     ]
    }
   ],
   "source": [
    "# 16. Write a Python program to solve (x + y) * (x + y).\n",
    "x = int(input(\"Input the first interger:\"))\n",
    "y = int(input(\"Input the second interger:\"))\n",
    "\n",
    "result = (x + y) * (x + y)\n",
    "print(f\"The result of the equation is: {result}\")"
   ]
  },
  {
   "cell_type": "code",
   "execution_count": 24,
   "id": "8b092d15",
   "metadata": {},
   "outputs": [
    {
     "name": "stdout",
     "output_type": "stream",
     "text": [
      "Input the amount of initial investment:10000\n",
      "Input the rate of interest:3.5\n",
      "Input the years:7\n",
      "The final result is: 12722.792627665729\n"
     ]
    }
   ],
   "source": [
    "#17. Write a Python program to compute the future value of a specified principal amount, rate of interest, and a number of years.\n",
    "amt = int(input(\"Input the amount of initial investment:\"))\n",
    "roi = float(input(\"Input the rate of interest:\"))\n",
    "years = int(input(\"Input the years:\"))\n",
    "\n",
    "result = amt * ((1 + (roi/100)) ** years)\n",
    "print(f\"The final result is: {result}\")"
   ]
  },
  {
   "cell_type": "code",
   "execution_count": 29,
   "id": "245bb246",
   "metadata": {},
   "outputs": [
    {
     "name": "stdout",
     "output_type": "stream",
     "text": [
      "Input the amount of x1:10\n",
      "Input the amount of x2:3\n",
      "Input the amount of y1:3\n",
      "Input the amount of y2:9\n",
      "The distance between the two points is: 9.219544457292887\n"
     ]
    }
   ],
   "source": [
    "#18. Write a Python program to compute the distance between the points (x1, y1) and (x2, y2).\n",
    "x1 = int(input(\"Input the amount of x1:\"))\n",
    "x2 = int(input(\"Input the amount of x2:\"))\n",
    "y1 = int(input(\"Input the amount of y1:\"))\n",
    "y2 = int(input(\"Input the amount of y2:\"))\n",
    "\n",
    "p = ((x1 - x2)**2)\n",
    "q = ((y1 - y2)**2)\n",
    "\n",
    "result = ((p + q)**(1/2))\n",
    "\n",
    "print(f\"The distance between the two points is: {result}\")"
   ]
  },
  {
   "cell_type": "code",
   "execution_count": 32,
   "id": "8260bf98",
   "metadata": {},
   "outputs": [
    {
     "name": "stdout",
     "output_type": "stream",
     "text": [
      "input the positive interger: 11\n",
      "The sum of the first {11} positive interger is {66.0}\n"
     ]
    }
   ],
   "source": [
    "#19.Write a python program to sum of the first n positive integers.\n",
    "n = int(input(\"input the positive interger: \"))\n",
    "a = (n * (n + 1))\n",
    "result = (a/2)\n",
    "print(f\"The sum of the first\", {n} , \"positive interger is\", {result})"
   ]
  },
  {
   "cell_type": "code",
   "execution_count": 36,
   "id": "cfcb5fae",
   "metadata": {},
   "outputs": [
    {
     "name": "stdout",
     "output_type": "stream",
     "text": [
      "input the height in feet: 6.0\n",
      "input the height in feet: 71.5\n",
      "Your height from feet to cm: 182.88\n",
      "Your Height from inches to cm: 181.61\n"
     ]
    }
   ],
   "source": [
    "#20.Write a Python program to convert height (in feet and inches) to centimeters.\n",
    "\n",
    "feet = float(input(\"input the height in feet: \"))\n",
    "inch = float(input(\"input the height in feet: \"))\n",
    "\n",
    "result1 = feet * 30.48\n",
    "result2 = inch * 2.54\n",
    "\n",
    "print(f\"Your height from feet to cm: {result1}\")\n",
    "print(f\"Your Height from inches to cm: {result2}\")"
   ]
  },
  {
   "cell_type": "code",
   "execution_count": 37,
   "id": "858e93ed",
   "metadata": {},
   "outputs": [
    {
     "name": "stdout",
     "output_type": "stream",
     "text": [
      "Input the base of the triangle:5\n",
      "Input the height of the triangle:12\n",
      "The Hypotenuse of the right triangle is: 13.0\n"
     ]
    }
   ],
   "source": [
    "#21.Write a Python program to calculate the hypotenuse of a right angled triangle.\n",
    "base = int(input(\"Input the base of the triangle:\"))\n",
    "height = int(input(\"Input the height of the triangle:\"))\n",
    "result = ((base**2 + height**2)**0.5)\n",
    "print(f\"The Hypotenuse of the right triangle is: {result}\")"
   ]
  },
  {
   "cell_type": "code",
   "execution_count": 39,
   "id": "e2949a60",
   "metadata": {},
   "outputs": [
    {
     "name": "stdout",
     "output_type": "stream",
     "text": [
      "Input your weight in kg:75\n",
      "Input the height in m:176\n",
      "Your body max index is: 24.212293388429753\n"
     ]
    }
   ],
   "source": [
    "#22.Write a Python program to calculate body mass index.\n",
    "a = int(input(\"Input your weight in kg:\"))\n",
    "b = int(input(\"Input the height in m:\"))\n",
    "result = (a / (b/100)**2)\n",
    "print(f\"Your body max index is: {result}\")"
   ]
  },
  {
   "cell_type": "code",
   "execution_count": 41,
   "id": "8eab90ae",
   "metadata": {},
   "outputs": [
    {
     "name": "stdout",
     "output_type": "stream",
     "text": [
      "Input the amount of x1:3\n",
      "Input the amount of x2:4\n",
      "Input the amount of y1:4\n",
      "Input the amount of y2:3\n",
      "The midpoints of the line is: (5, 5)\n"
     ]
    }
   ],
   "source": [
    "#23.Write a Python program to calculate midpoints of a line.\n",
    "x1 = int(input(\"Input the amount of x1:\"))\n",
    "x2 = int(input(\"Input the amount of x2:\"))\n",
    "y1 = int(input(\"Input the amount of y1:\"))\n",
    "y2 = int(input(\"Input the amount of y2:\"))\n",
    "\n",
    "result = ((x1 + x2 // 2), (y1 + y2 //2))\n",
    "print(f\"The midpoints of the line is: {result}\")"
   ]
  },
  {
   "cell_type": "code",
   "execution_count": 42,
   "id": "caa326f9",
   "metadata": {},
   "outputs": [
    {
     "name": "stdout",
     "output_type": "stream",
     "text": [
      "2002,2009,2016,2023,2030,2037,2044,2051,2058,2065,2072,2079,2086,2093,2100,2107,2114,2121,2128,2135,2142,2149,2156,2163,2170,2177,2184,2191,2198,2205,2212,2219,2226,2233,2240,2247,2254,2261,2268,2275,2282,2289,2296,2303,2310,2317,2324,2331,2338,2345,2352,2359,2366,2373,2380,2387,2394,2401,2408,2415,2422,2429,2436,2443,2450,2457,2464,2471,2478,2485,2492,2499,2506,2513,2520,2527,2534,2541,2548,2555,2562,2569,2576,2583,2590,2597,2604,2611,2618,2625,2632,2639,2646,2653,2660,2667,2674,2681,2688,2695,2702,2709,2716,2723,2730,2737,2744,2751,2758,2765,2772,2779,2786,2793,2800,2807,2814,2821,2828,2835,2842,2849,2856,2863,2870,2877,2884,2891,2898,2905,2912,2919,2926,2933,2940,2947,2954,2961,2968,2975,2982,2989,2996,3003,3010,3017,3024,3031,3038,3045,3052,3059,3066,3073,3080,3087,3094,3101,3108,3115,3122,3129,3136,3143,3150,3157,3164,3171,3178,3185,3192,3199,"
     ]
    }
   ],
   "source": [
    "#24.Write a program which will find all such numbers which are divisible by 7 but are not a multiple of 5, between 2000 and 3200 (both included). The numbers obtained should be printed in a comma-separated sequence on a single line.\n",
    "for a in range(2000, 3201):\n",
    "    if a % 7 == 0 and not n % 5 == 0:\n",
    "        print(a, end=\",\")"
   ]
  },
  {
   "cell_type": "code",
   "execution_count": null,
   "id": "c1516df1",
   "metadata": {},
   "outputs": [],
   "source": []
  },
  {
   "cell_type": "code",
   "execution_count": null,
   "id": "612ecd25",
   "metadata": {},
   "outputs": [],
   "source": []
  }
 ],
 "metadata": {
  "kernelspec": {
   "display_name": "Python 3 (ipykernel)",
   "language": "python",
   "name": "python3"
  },
  "language_info": {
   "codemirror_mode": {
    "name": "ipython",
    "version": 3
   },
   "file_extension": ".py",
   "mimetype": "text/x-python",
   "name": "python",
   "nbconvert_exporter": "python",
   "pygments_lexer": "ipython3",
   "version": "3.10.7"
  }
 },
 "nbformat": 4,
 "nbformat_minor": 5
}
